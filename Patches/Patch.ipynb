{
  "nbformat": 4,
  "nbformat_minor": 0,
  "metadata": {
    "colab": {
      "name": "Untitled11.ipynb",
      "provenance": []
    },
    "kernelspec": {
      "name": "python3",
      "display_name": "Python 3"
    }
  },
  "cells": [
    {
      "cell_type": "code",
      "metadata": {
        "id": "GbC6dc3_dkCY",
        "colab_type": "code",
        "colab": {}
      },
      "source": [
        "\"\"\"\n",
        "Used to patchify the dataset of Semantic Segmentation\n",
        "Set the directory for the current dataset, be sure to change the parameters.\n",
        "Give new Dataset Dir, also specify the sub directories.\n",
        "Patch size and Stride can be changed.\n",
        "\"\"\"\n",
        "import os\n",
        "from skimage.io import imread, imsave\n",
        "from skimage.util.shape import view_as_windows\n",
        "\n",
        "# Parameters to change.\n",
        "curr_dataset_dir = \"MonuSeg/\"\n",
        "new_dataset_dir = \"ModMonuSeg/\"\n",
        "\n",
        "sub_dirs = [\"Training/TissueImages/\", \"Training/GroundTruth/\",\n",
        "             \"Test/TissueImages/\", \"Test/GroundTruth/\"]\n",
        "patch_size = {'rgb': (256,256, 3), 'grayscale': (256,256)}\n",
        "stride = {'rgb': (256//2, 256//2, 3), 'grayscale': (256//2, 256//2)}\n",
        "\n",
        "# Create the new dataset directory\n",
        "os.makedirs(new_dataset_dir, exist_ok=True)\n",
        "\n",
        "for sub_dir in sub_dirs:\n",
        "    new_dir_ = new_dataset_dir + sub_dir\n",
        "    # Create sub_dir in the new dataset directory\n",
        "    os.makedirs(new_dir_, exist_ok=True)\n",
        "    dir_ = curr_dataset_dir + sub_dir\n",
        "    ids = next(os.walk(dir_))[2]\n",
        "\n",
        "    for id_ in ids:\n",
        "        img = imread(dir_ + id_)\n",
        "        img_type = 'rgb' if img.ndim == 3 else 'grayscale'\n",
        "        new_imgs = view_as_windows(img, patch_size[img_type], stride[img_type])\n",
        "        new_imgs = new_imgs.reshape(-1, 256, 256, 3) if img.ndim == 3 else new_imgs.reshape(-1, 256, 256)\n",
        "        for i, patch in enumerate(new_imgs):\n",
        "            file_name, extension = id_.split('.')\n",
        "            new_file_name = file_name + f'-PCH{i}.' + extension\n",
        "            imsave(new_dir_ + new_file_name, patch)"
      ],
      "execution_count": 0,
      "outputs": []
    }
  ]
}